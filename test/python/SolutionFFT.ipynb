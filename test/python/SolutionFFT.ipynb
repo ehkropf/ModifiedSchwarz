{
 "cells": [
  {
   "cell_type": "code",
   "execution_count": null,
   "metadata": {
    "collapsed": false
   },
   "outputs": [],
   "source": [
    "import numpy as np\n",
    "import math\n",
    "from scipy.fftpack import fft"
   ]
  },
  {
   "cell_type": "markdown",
   "metadata": {},
   "source": [
    " circle(-0.2517+0.3129i, 0.2377), ...\n",
    " circle(0.2307-0.4667i, 0.1557));"
   ]
  },
  {
   "cell_type": "code",
   "execution_count": null,
   "metadata": {
    "collapsed": false
   },
   "outputs": [],
   "source": [
    "dv = np.array([-0.2517+0.3129j, 0.2307-0.4667j])\n",
    "qv = np.array([0.2377, 0.1557])\n",
    "m = dv.size"
   ]
  },
  {
   "cell_type": "code",
   "execution_count": null,
   "metadata": {
    "collapsed": true
   },
   "outputs": [],
   "source": [
    "def polyval(c, z):\n",
    "    \"Polynomial evaluation.\"\n",
    "    \n",
    "    p = np.zeros(z.shape, dtype=z.dtype)\n",
    "    for a in c:\n",
    "        p = p*z + a\n",
    "        \n",
    "    return p"
   ]
  },
  {
   "cell_type": "code",
   "execution_count": null,
   "metadata": {
    "collapsed": false
   },
   "outputs": [],
   "source": [
    "i2pi = 2.0j*math.pi\n",
    "\n",
    "def polesInHoles(z):\n",
    "    \"Put a pole in each circle center.\"\n",
    "    \n",
    "    w = np.zeros(z.shape, z.dtype)\n",
    "    for d, q in zip(dv, qv):\n",
    "        w += q/(z - d)/i2pi\n",
    "        \n",
    "    return w\n",
    "\n",
    "# real part\n",
    "g = lambda z: polesInHoles(z).real"
   ]
  },
  {
   "cell_type": "code",
   "execution_count": null,
   "metadata": {
    "collapsed": true
   },
   "outputs": [],
   "source": [
    "N = 16\n",
    "M = 2*N + 1"
   ]
  },
  {
   "cell_type": "code",
   "execution_count": null,
   "metadata": {
    "collapsed": false
   },
   "outputs": [],
   "source": [
    "nb = M\n",
    "circ = np.exp(i2pi*np.arange(nb, dtype=np.double)/nb)\n",
    "zb = np.empty((nb, m+1), dtype=np.complex_)\n",
    "zb[:,0] = circ\n",
    "for d, q, j in zip(dv, qv, range(m)):\n",
    "    zb[:,j+1] = d + q*circ"
   ]
  },
  {
   "cell_type": "code",
   "execution_count": null,
   "metadata": {
    "collapsed": false
   },
   "outputs": [],
   "source": [
    "a = np.empty(zb.shape, dtype=zb.dtype)\n",
    "for j in range(m+1):\n",
    "    a[:,j] = fft(g(zb[:,j]))/M"
   ]
  },
  {
   "cell_type": "code",
   "execution_count": null,
   "metadata": {
    "collapsed": false
   },
   "outputs": [],
   "source": [
    "a0 = a[0,:]\n",
    "an = np.vstack([np.flipud(a[1:N+1,:]), [0., 0., 0.]])"
   ]
  },
  {
   "cell_type": "code",
   "execution_count": null,
   "metadata": {
    "collapsed": false
   },
   "outputs": [],
   "source": [
    "an[:,0]"
   ]
  },
  {
   "cell_type": "code",
   "execution_count": null,
   "metadata": {
    "collapsed": false
   },
   "outputs": [],
   "source": [
    "abs(g(zb[:,0]) - (a0[0].real + 2.*polyval(an[:,0], zb[:,0]).real))/abs(g(zb[:,0]))"
   ]
  }
 ],
 "metadata": {
  "kernelspec": {
   "display_name": "Python 3",
   "language": "python",
   "name": "python3"
  },
  "language_info": {
   "codemirror_mode": {
    "name": "ipython",
    "version": 3
   },
   "file_extension": ".py",
   "mimetype": "text/x-python",
   "name": "python",
   "nbconvert_exporter": "python",
   "pygments_lexer": "ipython3",
   "version": "3.5.2"
  }
 },
 "nbformat": 4,
 "nbformat_minor": 1
}
