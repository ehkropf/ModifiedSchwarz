{
 "cells": [
  {
   "cell_type": "code",
   "execution_count": null,
   "metadata": {
    "collapsed": false
   },
   "outputs": [],
   "source": [
    "import numpy as np\n",
    "import math\n",
    "from scipy.fftpack import fft"
   ]
  },
  {
   "cell_type": "markdown",
   "metadata": {},
   "source": [
    "Sample data (canonical m=2 example from SKPrime):"
   ]
  },
  {
   "cell_type": "code",
   "execution_count": null,
   "metadata": {
    "collapsed": false
   },
   "outputs": [],
   "source": [
    "dv = np.array([-0.2517+0.3129j, 0.2307-0.4667j])\n",
    "qv = np.array([0.2377, 0.1557])\n",
    "m = dv.size"
   ]
  },
  {
   "cell_type": "markdown",
   "metadata": {},
   "source": [
    "Some needed functions."
   ]
  },
  {
   "cell_type": "code",
   "execution_count": null,
   "metadata": {
    "collapsed": true
   },
   "outputs": [],
   "source": [
    "def polyval(c, z):\n",
    "    \"Polynomial evaluation.\"\n",
    "    \n",
    "    p = np.zeros(z.shape, dtype=z.dtype)\n",
    "    for a in c:\n",
    "        p = p*z + a\n",
    "        \n",
    "    return p"
   ]
  },
  {
   "cell_type": "code",
   "execution_count": null,
   "metadata": {
    "collapsed": false
   },
   "outputs": [],
   "source": [
    "i2pi = 2.0j*math.pi\n",
    "\n",
    "def polesInHoles(z):\n",
    "    \"Put a pole in each circle center.\"\n",
    "    \n",
    "    w = np.zeros(z.shape, z.dtype)\n",
    "    for d, q in zip(dv, qv):\n",
    "        w += q/(z - d)/i2pi\n",
    "        \n",
    "    return w\n",
    "\n",
    "# real part\n",
    "g = lambda z: polesInHoles(z).real"
   ]
  },
  {
   "cell_type": "markdown",
   "metadata": {},
   "source": [
    "Sample $N$ points on each boundary."
   ]
  },
  {
   "cell_type": "code",
   "execution_count": null,
   "metadata": {
    "collapsed": true
   },
   "outputs": [],
   "source": [
    "M = 129\n",
    "\n",
    "circ = np.exp(i2pi*np.arange(M, dtype=np.double)/M)\n",
    "zb = np.empty((M, m+1), dtype=np.complex_)\n",
    "zb[:,0] = circ\n",
    "for d, q, j in zip(dv, qv, range(m)):\n",
    "    zb[:,j+1] = d + q*circ"
   ]
  },
  {
   "cell_type": "markdown",
   "metadata": {},
   "source": [
    "Create interpolation coefficients via FFT."
   ]
  },
  {
   "cell_type": "code",
   "execution_count": null,
   "metadata": {
    "collapsed": true
   },
   "outputs": [],
   "source": [
    "a = np.empty(zb.shape, dtype=np.complex_)\n",
    "for j in range(m+1):\n",
    "    a[:,j] = fft(g(zb[:,j]))/M"
   ]
  },
  {
   "cell_type": "code",
   "execution_count": null,
   "metadata": {
    "collapsed": false
   },
   "outputs": [],
   "source": [
    "N = math.ceil((M - 1)/2)\n",
    "c0 = a[0,:]\n",
    "cn = np.vstack([np.flipud(a[1:N+1,:]),\n",
    "               np.zeros((1, m+1))])"
   ]
  },
  {
   "cell_type": "markdown",
   "metadata": {
    "collapsed": true
   },
   "source": [
    "Pick points not in samples and compare interpolate with actual."
   ]
  },
  {
   "cell_type": "code",
   "execution_count": null,
   "metadata": {
    "collapsed": false
   },
   "outputs": [],
   "source": [
    "circ = np.exp(i2pi*np.arange(M, dtype=np.double)/M + 1j/M/2.)\n",
    "zt = np.empty((M, m+1), dtype=np.complex_)\n",
    "zt[:,0] = circ\n",
    "for d, q, j in zip(dv, qv, range(m)):\n",
    "    zt[:,j+1] = d + q*circ"
   ]
  },
  {
   "cell_type": "markdown",
   "metadata": {},
   "source": [
    "Interpolate each by column."
   ]
  },
  {
   "cell_type": "code",
   "execution_count": null,
   "metadata": {
    "collapsed": false
   },
   "outputs": [],
   "source": [
    "gt = np.empty(zt.shape, dtype=np.complex_)\n",
    "gt.shape\n",
    "for j, d, q in zip(range(m+1), np.hstack([0., dv]), np.hstack([1., qv])):\n",
    "    gt[:,j] = c0[j].real + 2.*polyval(cn[:,j], (zt[:,j] - d)/q).real"
   ]
  },
  {
   "cell_type": "code",
   "execution_count": null,
   "metadata": {
    "collapsed": false
   },
   "outputs": [],
   "source": [
    "np.max(abs(g(zt) - gt), axis=0)"
   ]
  }
 ],
 "metadata": {
  "kernelspec": {
   "display_name": "Python 3",
   "language": "python",
   "name": "python3"
  },
  "language_info": {
   "codemirror_mode": {
    "name": "ipython",
    "version": 3
   },
   "file_extension": ".py",
   "mimetype": "text/x-python",
   "name": "python",
   "nbconvert_exporter": "python",
   "pygments_lexer": "ipython3",
   "version": "3.5.2"
  }
 },
 "nbformat": 4,
 "nbformat_minor": 1
}
