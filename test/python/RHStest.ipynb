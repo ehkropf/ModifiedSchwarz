{
 "cells": [
  {
   "cell_type": "code",
   "execution_count": null,
   "metadata": {
    "collapsed": false
   },
   "outputs": [],
   "source": [
    "import numpy as np\n",
    "import math\n",
    "import cmath\n",
    "import scipy.integrate as integrate"
   ]
  },
  {
   "cell_type": "markdown",
   "metadata": {},
   "source": [
    " circle(-0.2517+0.3129i, 0.2377), ...\n",
    " circle(0.2307-0.4667i, 0.1557));"
   ]
  },
  {
   "cell_type": "code",
   "execution_count": null,
   "metadata": {
    "collapsed": false
   },
   "outputs": [],
   "source": [
    "dv = np.array([-0.2517+0.3129j, 0.2307-0.4667j])\n",
    "qv = np.array([0.2377, 0.1557])"
   ]
  },
  {
   "cell_type": "code",
   "execution_count": null,
   "metadata": {
    "collapsed": false
   },
   "outputs": [],
   "source": [
    "pi2 = 2.*math.pi\n",
    "\n",
    "j = 0\n",
    "if j > 0:\n",
    "    dj = 0.+0.j\n",
    "    qj = 1.\n",
    "else:\n",
    "    dj = dv[j-1]\n",
    "    qj = qv[j-1]\n",
    "    \n",
    "k = -2\n",
    "\n",
    "D = 128\n",
    "eti = np.exp(np.arange(0, D, dtype=float)*1j*pi2/D)\n",
    "zj = dj + qj*eti\n",
    "\n",
    "rj = lambda z: np.exp(z).imag"
   ]
  },
  {
   "cell_type": "markdown",
   "metadata": {},
   "source": [
    "Compare for $p=0$"
   ]
  },
  {
   "cell_type": "code",
   "execution_count": null,
   "metadata": {
    "collapsed": false
   },
   "outputs": [],
   "source": [
    "zkj = np.ones(D, dtype=complex)\n",
    "for _ in range(1, -k):\n",
    "    zkj *= zj"
   ]
  },
  {
   "cell_type": "code",
   "execution_count": null,
   "metadata": {
    "collapsed": false
   },
   "outputs": [],
   "source": [
    "Ip0 = -qj*pi2/D*np.sum(rj(zj)*zkj*eti)\n",
    "print(Ip0)"
   ]
  },
  {
   "cell_type": "code",
   "execution_count": null,
   "metadata": {
    "collapsed": false
   },
   "outputs": [],
   "source": [
    "zjt = lambda t: dj + qj*np.exp(1j*t)\n",
    "f = lambda t: rj(zjt(t))*zjt(t)**(-k-1)*np.exp(1j*t)\n",
    "r1 = integrate.quad(lambda t: f(t).real, 0., pi2)\n",
    "r2 = integrate.quad(lambda t: f(t).imag, 0., pi2)\n",
    "Cp0 = -qj*(r1[0] + 1j*r2[0])\n",
    "print(Cp0)"
   ]
  },
  {
   "cell_type": "markdown",
   "metadata": {},
   "source": [
    "Compare for $p > 0$"
   ]
  },
  {
   "cell_type": "code",
   "execution_count": null,
   "metadata": {
    "collapsed": true
   },
   "outputs": [],
   "source": [
    "p = 2\n",
    "dp = dv[p-1]\n",
    "qp = dv[p-1]"
   ]
  },
  {
   "cell_type": "code",
   "execution_count": null,
   "metadata": {
    "collapsed": true
   },
   "outputs": [],
   "source": [
    "zjp = (zj - dp)/qp\n",
    "zkj = 1./zjp\n",
    "for _ in range(1, -k):\n",
    "    zkj = zkj/zjp"
   ]
  },
  {
   "cell_type": "code",
   "execution_count": null,
   "metadata": {
    "collapsed": false
   },
   "outputs": [],
   "source": [
    "Ip2 = -qj*pi2/D*np.sum(rj(zj)*zkj*eti)\n",
    "print(Ip2)"
   ]
  },
  {
   "cell_type": "code",
   "execution_count": null,
   "metadata": {
    "collapsed": false
   },
   "outputs": [],
   "source": [
    "f2 = lambda t: rj(zjt(t))*((zjt(t) - dp)/qp)**k*np.exp(1j*t)\n",
    "r1 = integrate.quad(lambda t: f2(t).real, 0., pi2)\n",
    "r2 = integrate.quad(lambda t: f2(t).imag, 0., pi2)\n",
    "Cp2 = -qj*(r1[0] + 1j*r2[0])\n",
    "print(Cp2)"
   ]
  }
 ],
 "metadata": {
  "kernelspec": {
   "display_name": "Python 3",
   "language": "python",
   "name": "python3"
  },
  "language_info": {
   "codemirror_mode": {
    "name": "ipython",
    "version": 3
   },
   "file_extension": ".py",
   "mimetype": "text/x-python",
   "name": "python",
   "nbconvert_exporter": "python",
   "pygments_lexer": "ipython3",
   "version": "3.5.2"
  }
 },
 "nbformat": 4,
 "nbformat_minor": 1
}
