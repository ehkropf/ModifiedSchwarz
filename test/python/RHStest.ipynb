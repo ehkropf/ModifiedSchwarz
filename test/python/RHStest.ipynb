{
 "cells": [
  {
   "cell_type": "code",
   "execution_count": null,
   "metadata": {
    "collapsed": false
   },
   "outputs": [],
   "source": [
    "import numpy as np\n",
    "import math\n",
    "import cmath\n",
    "# import scipy.integrate as integrate"
   ]
  },
  {
   "cell_type": "markdown",
   "metadata": {},
   "source": [
    "Some constants."
   ]
  },
  {
   "cell_type": "code",
   "execution_count": null,
   "metadata": {
    "collapsed": false
   },
   "outputs": [],
   "source": [
    "pi2 = 2.*math.pi\n",
    "i2pi = 2.j*math.pi\n",
    "\n",
    "M = 100 # Trapezoid rule points.\n",
    "N = 64  # Truncation level.\n",
    "\n",
    "dt = pi2/M\n",
    "\n",
    "eit = np.exp(np.arange(0, M, dtype=float)*1j*dt)"
   ]
  },
  {
   "cell_type": "markdown",
   "metadata": {},
   "source": [
    "Domain things, canonical test case.\n",
    "\n",
    "    circle(-0.2517+0.3129i, 0.2377), ...\n",
    "    circle(0.2307-0.4667i, 0.1557));"
   ]
  },
  {
   "cell_type": "code",
   "execution_count": null,
   "metadata": {
    "collapsed": false
   },
   "outputs": [],
   "source": [
    "dv = np.array([-0.2517+0.3129j, 0.2307-0.4667j])\n",
    "qv = np.array([0.2377, 0.1557])\n",
    "m = dv.size\n",
    "\n",
    "dv0 = lambda j: dv[j-1] if j > 0 else 0.+0.j\n",
    "qv0 = lambda j: qv[j-1] if j > 0 else 1."
   ]
  },
  {
   "cell_type": "markdown",
   "metadata": {},
   "source": [
    "Test function."
   ]
  },
  {
   "cell_type": "code",
   "execution_count": null,
   "metadata": {
    "collapsed": true
   },
   "outputs": [],
   "source": [
    "def polesInHoles(z):\n",
    "    '''Put singularity in each hole.'''\n",
    "    \n",
    "    w = np.zeros(z.shape, z.dtype)\n",
    "    for d in dv:\n",
    "        w += 1/(z - d)\n",
    "        \n",
    "    return w"
   ]
  },
  {
   "cell_type": "markdown",
   "metadata": {},
   "source": [
    "Read ARMA."
   ]
  },
  {
   "cell_type": "code",
   "execution_count": null,
   "metadata": {
    "collapsed": true
   },
   "outputs": [],
   "source": [
    "def readMatrixFromFile(fname):\n",
    "    '''Read matrix from file fname.'''\n",
    "    \n",
    "    f = open(fname, 'r')\n",
    "\n",
    "    line = f.readline()\n",
    "    if not line.startswith('ARMA_MAT_TXT'):\n",
    "        raise Excetption('Not ARMA!')\n",
    "\n",
    "    line = f.readline()\n",
    "    rows, cols = line.strip('\\n').split(sep=' ')\n",
    "    (rows, cols) = (int(rows), int(cols))\n",
    "    L = np.zeros((rows, cols), dtype=np.complex64)\n",
    "    L.shape\n",
    "\n",
    "    i = 0\n",
    "    for line in f:\n",
    "        x = line.strip(' \\n').split(' ')\n",
    "        L[i,:] = [complex(float(a[0]), float(a[1])) for a in [s.strip('()').split(',') for s in x]]\n",
    "        i += 1\n",
    "\n",
    "    f.close()\n",
    "    \n",
    "    return L\n",
    "\n",
    "refRHS = readMatrixFromFile('../refRHS.dat')"
   ]
  },
  {
   "cell_type": "markdown",
   "metadata": {},
   "source": [
    "Points on the boundary and imaginary part of function there."
   ]
  },
  {
   "cell_type": "code",
   "execution_count": null,
   "metadata": {
    "collapsed": false
   },
   "outputs": [],
   "source": [
    "zb = np.empty((eit.size, m+1), dtype=np.complex_)\n",
    "for j in range(0, m+1):\n",
    "    zb[:,j] = dv0(j) + qv0(j)*eit\n",
    "    \n",
    "rz = polesInHoles(zb).imag"
   ]
  },
  {
   "cell_type": "markdown",
   "metadata": {},
   "source": [
    "Matrix to do integration."
   ]
  },
  {
   "cell_type": "code",
   "execution_count": null,
   "metadata": {
    "collapsed": true
   },
   "outputs": [],
   "source": [
    "L = np.empty((N+m*(N+1), (m+1)*M), dtype=np.complex_)"
   ]
  },
  {
   "cell_type": "markdown",
   "metadata": {},
   "source": [
    "First row shares common bits with everything else, then $p=0$ is made of powers of $z_j$."
   ]
  },
  {
   "cell_type": "code",
   "execution_count": null,
   "metadata": {
    "collapsed": false
   },
   "outputs": [],
   "source": [
    "Mdx = np.arange(M)\n",
    "dz = eit*dt\n",
    "for j in range(0, m+1):\n",
    "    coff = j*M\n",
    "    qj = -qv0(j) if j > 0 else 1.\n",
    "    L[0,coff+Mdx] = (qj*rz[:,j]*dz).reshape(1, M)\n",
    "    \n",
    "zj = zb.T.reshape(1, (m+1)*M)\n",
    "for k in range(1, N):\n",
    "    L[k,:] = L[k-1,:]*zj"
   ]
  },
  {
   "cell_type": "markdown",
   "metadata": {},
   "source": [
    "Following block-rows are for $p\\in\\{1,...,m\\}$ and involve multiples of $q_p/(z_j - \\delta_p)$."
   ]
  },
  {
   "cell_type": "code",
   "execution_count": null,
   "metadata": {
    "collapsed": false
   },
   "outputs": [],
   "source": [
    "for p in range(1, m+1):\n",
    "    roff = p*(N+1) - 1 # = N + (p-1)*(N+1)\n",
    "    etap = qv[p-1]/(zj - dv[p-1])\n",
    "    L[roff,:] = L[0,:]*etap\n",
    "    for k in range(1, N+1):\n",
    "        L[roff+k,:] = L[roff+k-1,:]*etap"
   ]
  },
  {
   "cell_type": "markdown",
   "metadata": {},
   "source": [
    "Want matrix-vector multiplication to do the integration. But this isn't working.\n",
    "\n",
    "rhs = L.dot(np.tile((eit*dt).reshape(M, 1), (m+1, 1)))"
   ]
  },
  {
   "cell_type": "markdown",
   "metadata": {},
   "source": [
    "So sum instead?"
   ]
  },
  {
   "cell_type": "code",
   "execution_count": null,
   "metadata": {
    "collapsed": true
   },
   "outputs": [],
   "source": [
    "rhs = L.sum(axis=1).reshape(N + m*(N+1), 1)"
   ]
  },
  {
   "cell_type": "markdown",
   "metadata": {
    "collapsed": true
   },
   "source": [
    "Compare some things with reference."
   ]
  },
  {
   "cell_type": "code",
   "execution_count": null,
   "metadata": {
    "collapsed": true
   },
   "outputs": [],
   "source": [
    "import matplotlib.pyplot as plt"
   ]
  },
  {
   "cell_type": "code",
   "execution_count": null,
   "metadata": {
    "collapsed": false,
    "scrolled": false
   },
   "outputs": [],
   "source": [
    "idx = np.arange(5)\n",
    "abserr = np.abs(refRHS - rhs)\n",
    "plt.semilogy(abserr, '.-')\n",
    "plt.show()"
   ]
  },
  {
   "cell_type": "markdown",
   "metadata": {},
   "source": [
    "================================\n",
    "* Previous Compare for $p=0$"
   ]
  },
  {
   "cell_type": "markdown",
   "metadata": {
    "collapsed": false
   },
   "source": [
    "zkj = np.ones(D, dtype=complex)\n",
    "for _ in range(1, -k):\n",
    "    zkj *= zj"
   ]
  },
  {
   "cell_type": "markdown",
   "metadata": {
    "collapsed": false
   },
   "source": [
    "Ip0 = -qj*pi2/D*np.sum(rj(zj)*zkj*eti)\n",
    "print(Ip0)"
   ]
  },
  {
   "cell_type": "markdown",
   "metadata": {
    "collapsed": false
   },
   "source": [
    "zjt = lambda t: dj + qj*np.exp(1j*t)\n",
    "f = lambda t: rj(zjt(t))*zjt(t)**(-k-1)*np.exp(1j*t)\n",
    "r1 = integrate.quad(lambda t: f(t).real, 0., pi2)\n",
    "r2 = integrate.quad(lambda t: f(t).imag, 0., pi2)\n",
    "Cp0 = -qj*(r1[0] + 1j*r2[0])\n",
    "print(Cp0)"
   ]
  },
  {
   "cell_type": "markdown",
   "metadata": {},
   "source": [
    "* Previous Compare for $p > 0$"
   ]
  },
  {
   "cell_type": "markdown",
   "metadata": {
    "collapsed": true
   },
   "source": [
    "p = 2\n",
    "dp = dv[p-1]\n",
    "qp = dv[p-1]"
   ]
  },
  {
   "cell_type": "markdown",
   "metadata": {
    "collapsed": true
   },
   "source": [
    "zjp = (zj - dp)/qp\n",
    "zkj = 1./zjp\n",
    "for _ in range(1, -k):\n",
    "    zkj = zkj/zjp"
   ]
  },
  {
   "cell_type": "markdown",
   "metadata": {
    "collapsed": false
   },
   "source": [
    "Ip2 = -qj*pi2/D*np.sum(rj(zj)*zkj*eti)\n",
    "print(Ip2)"
   ]
  },
  {
   "cell_type": "markdown",
   "metadata": {
    "collapsed": false
   },
   "source": [
    "f2 = lambda t: rj(zjt(t))*((zjt(t) - dp)/qp)**k*np.exp(1j*t)\n",
    "r1 = integrate.quad(lambda t: f2(t).real, 0., pi2)\n",
    "r2 = integrate.quad(lambda t: f2(t).imag, 0., pi2)\n",
    "Cp2 = -qj*(r1[0] + 1j*r2[0])\n",
    "print(Cp2)"
   ]
  }
 ],
 "metadata": {
  "kernelspec": {
   "display_name": "Python 3",
   "language": "python",
   "name": "python3"
  },
  "language_info": {
   "codemirror_mode": {
    "name": "ipython",
    "version": 3
   },
   "file_extension": ".py",
   "mimetype": "text/x-python",
   "name": "python",
   "nbconvert_exporter": "python",
   "pygments_lexer": "ipython3",
   "version": "3.5.2"
  }
 },
 "nbformat": 4,
 "nbformat_minor": 1
}
