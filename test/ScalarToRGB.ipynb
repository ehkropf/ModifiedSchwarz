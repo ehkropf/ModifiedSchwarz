{
 "cells": [
  {
   "cell_type": "markdown",
   "metadata": {},
   "source": [
    "### Example scalar to RGB map.\n",
    "Stolen from [http://stackoverflow.com/questions/26108436/how-can-i-get-the-matplotlib-rgb-color-given-the-colormap-name-boundrynorm-an]"
   ]
  },
  {
   "cell_type": "code",
   "execution_count": null,
   "metadata": {
    "collapsed": true
   },
   "outputs": [],
   "source": [
    "import matplotlib as mpl\n",
    "import matplotlib.pyplot as plt\n",
    "from matplotlib import cm\n",
    "\n",
    "class MplColorHelper:\n",
    "    \n",
    "    def __init__(self, cmap_name, start_val, stop_val):\n",
    "        self.cmap_name = cmap_name\n",
    "        self.cmap = plt.get_cmap(cmap_name)\n",
    "        self.norm = mpl.colors.Normalize(vmin=start_val, vmax=stop_val)\n",
    "        self.scalarMap = cm.ScalarMappable(norm=self.norm, cmap=self.cmap)\n",
    "\n",
    "    def get_rgb(self, val):\n",
    "        return self.scalarMap.to_rgba(val)"
   ]
  },
  {
   "cell_type": "code",
   "execution_count": null,
   "metadata": {
    "collapsed": false
   },
   "outputs": [],
   "source": [
    "import numpy as np\n",
    "# setup the plot\n",
    "fig, ax = plt.subplots(1,1, figsize=(6,6))\n",
    "\n",
    "# define the data between 0 and 20\n",
    "NUM_VALS = 20\n",
    "x = np.random.uniform(0, NUM_VALS, size=NUM_VALS)\n",
    "y = np.random.uniform(0, NUM_VALS, size=NUM_VALS)\n",
    "\n",
    "# define the color chart between 2 and 10 using the 'autumn_r' colormap, so\n",
    "#   y <= 2  is yellow\n",
    "#   y >= 10 is red\n",
    "#   2 < y < 10 is between from yellow to red, according to its value\n",
    "COL = MplColorHelper('autumn_r', 2, 10)\n",
    "\n",
    "scat = ax.scatter(x,y,s=300, c=COL.get_rgb(y))\n",
    "ax.set_title('Well defined discrete colors')\n",
    "plt.show()"
   ]
  }
 ],
 "metadata": {
  "kernelspec": {
   "display_name": "Python 3",
   "language": "python",
   "name": "python3"
  },
  "language_info": {
   "codemirror_mode": {
    "name": "ipython",
    "version": 3
   },
   "file_extension": ".py",
   "mimetype": "text/x-python",
   "name": "python",
   "nbconvert_exporter": "python",
   "pygments_lexer": "ipython3",
   "version": "3.5.2"
  }
 },
 "nbformat": 4,
 "nbformat_minor": 1
}
