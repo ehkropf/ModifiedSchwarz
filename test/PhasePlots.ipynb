{
 "cells": [
  {
   "cell_type": "code",
   "execution_count": null,
   "metadata": {
    "collapsed": true
   },
   "outputs": [],
   "source": [
    "import numpy as np\n",
    "import matplotlib\n",
    "import matplotlib.pyplot as plt"
   ]
  },
  {
   "cell_type": "code",
   "execution_count": null,
   "metadata": {
    "collapsed": false
   },
   "outputs": [],
   "source": [
    "res = 400\n",
    "z = np.linspace(-1, 1, res)[np.newaxis, :]\n",
    "z = z - 1j*z.T\n",
    "\n",
    "# Maps angle of z from [0,pi]U[-pi,0] to [0,1]\n",
    "ph = (np.angle(-z) + np.pi)/(2*np.pi)\n",
    "\n",
    "# Get scalar to rgb map object.\n",
    "smap = matplotlib.cm.ScalarMappable(\n",
    "    norm=matplotlib.colors.Normalize(vmin=0., vmax=1.),\n",
    "    cmap='hsv')\n",
    "rgba = smap.to_rgba(ph)\n",
    "\n",
    "# If number of colors in the colormap is known,\n",
    "# i.e. the colormap is an array, this converts\n",
    "# to the colormap index.\n",
    "# nc = 100\n",
    "# y = np.floor(nc*(ph - np.floor(ph))).astype(int)\n",
    "\n",
    "fig = plt.figure()\n",
    "ax = fig.gca()\n",
    "ax.imshow(rgba,\n",
    "          interpolation='none',\n",
    "          aspect='equal')\n",
    "plt.show()"
   ]
  }
 ],
 "metadata": {
  "kernelspec": {
   "display_name": "Python 3",
   "language": "python",
   "name": "python3"
  },
  "language_info": {
   "codemirror_mode": {
    "name": "ipython",
    "version": 3
   },
   "file_extension": ".py",
   "mimetype": "text/x-python",
   "name": "python",
   "nbconvert_exporter": "python",
   "pygments_lexer": "ipython3",
   "version": "3.5.2"
  }
 },
 "nbformat": 4,
 "nbformat_minor": 1
}
