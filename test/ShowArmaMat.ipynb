{
 "cells": [
  {
   "cell_type": "code",
   "execution_count": null,
   "metadata": {
    "collapsed": false
   },
   "outputs": [],
   "source": [
    "import numpy as np\n",
    "import matplotlib\n",
    "import matplotlib.pyplot as plt"
   ]
  },
  {
   "cell_type": "code",
   "execution_count": null,
   "metadata": {
    "collapsed": true
   },
   "outputs": [],
   "source": [
    "def readMatrixFromFile(fname):\n",
    "    '''Read matrix from file fname.'''\n",
    "    \n",
    "    f = open(fname, 'r')\n",
    "\n",
    "    line = f.readline()\n",
    "    if not line.startswith('ARMA_MAT_TXT'):\n",
    "        raise Excetption('Not ARMA!')\n",
    "\n",
    "    line = f.readline()\n",
    "    rows, cols = line.strip('\\n').split(sep=' ')\n",
    "    (rows, cols) = (int(rows), int(cols))\n",
    "    L = np.zeros((rows, cols), dtype=np.complex64)\n",
    "    L.shape\n",
    "\n",
    "    i = 0\n",
    "    for line in f:\n",
    "        x = line.strip(' \\n').split(' ')\n",
    "        L[i,:] = [complex(float(a[0]), float(a[1])) for a in [s.strip('()').split(',') for s in x]]\n",
    "        i += 1\n",
    "\n",
    "    f.close()\n",
    "    \n",
    "    return L"
   ]
  },
  {
   "cell_type": "code",
   "execution_count": null,
   "metadata": {
    "collapsed": false
   },
   "outputs": [],
   "source": [
    "matname = \"../build/Lmatrix.dat\"\n",
    "L = readMatrixFromFile(matname)\n",
    "\n",
    "Lno = np.abs(L) < np.spacing(1.)\n",
    "La = (np.angle(-L) + np.pi)/(2*np.pi)\n",
    "La[Lno] = np.nan\n",
    "\n",
    "fig = plt.figure()\n",
    "ax = fig.gca()\n",
    "ax.imshow(La,\n",
    "          aspect='equal',\n",
    "          cmap='hsv', \n",
    "          interpolation='none',\n",
    "          vmin=0.,\n",
    "          vmax=1.)\n",
    "plt.show()"
   ]
  }
 ],
 "metadata": {
  "kernelspec": {
   "display_name": "Python 3",
   "language": "python",
   "name": "python3"
  },
  "language_info": {
   "codemirror_mode": {
    "name": "ipython",
    "version": 3
   },
   "file_extension": ".py",
   "mimetype": "text/x-python",
   "name": "python",
   "nbconvert_exporter": "python",
   "pygments_lexer": "ipython3",
   "version": "3.5.2"
  }
 },
 "nbformat": 4,
 "nbformat_minor": 1
}
