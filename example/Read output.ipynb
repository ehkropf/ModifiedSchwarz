{
 "cells": [
  {
   "cell_type": "code",
   "execution_count": 2,
   "metadata": {},
   "outputs": [],
   "source": [
    "import numpy as np"
   ]
  },
  {
   "cell_type": "code",
   "execution_count": 3,
   "metadata": {},
   "outputs": [],
   "source": [
    "mfname = \"../build/ex1.meta\"\n",
    "fname = \"../build/ex1.data\""
   ]
  },
  {
   "cell_type": "code",
   "execution_count": 16,
   "metadata": {},
   "outputs": [
    {
     "name": "stdout",
     "output_type": "stream",
     "text": [
      "[160, 220]\n",
      "[0, 399]\n",
      "[399, 0]\n"
     ]
    }
   ],
   "source": [
    "class GridData:\n",
    "    'Grid metadata.'\n",
    "    \n",
    "    def __init__(self, mfname):\n",
    "        'Load data from *.meta file.'\n",
    "\n",
    "        mf = open(mfname, 'r')\n",
    "        self.m = int(mf.readline().strip('\\n').split(sep='=')[1])\n",
    "\n",
    "        self.c = []\n",
    "        for _ in range(self.m):\n",
    "            a = mf.readline().strip('\\n').strip('()').split(sep=',')\n",
    "            self.c.append(complex(float(a[0]), float(a[1])))\n",
    "\n",
    "        self.r = []\n",
    "        for _ in range(self.m):\n",
    "            a = mf.readline().strip('\\n')\n",
    "            self.r.append(float(a))\n",
    "    \n",
    "        self.res = int(mf.readline().strip('\\n').split(sep='=')[1])\n",
    "\n",
    "        a = mf.readline().strip('\\n').split(sep=' ')\n",
    "        self.xmin = float(a[0])\n",
    "        self.xmax = float(a[1])\n",
    "        self.ymin = float(a[2])\n",
    "        self.ymax = float(a[3])\n",
    "        \n",
    "        self.dx = (self.xmax - self.xmin)/self.res\n",
    "        self.dy = (self.ymax - self.ymin)/self.res\n",
    "\n",
    "        mf.close()\n",
    "        \n",
    "    def gridloc(self, point):\n",
    "        'Calc grid location given point(s).'\n",
    "        \n",
    "        # x = xmin + ix*dx => ix = (x - xmin)//dx\n",
    "        x = point.real\n",
    "        ix = np.floor_divide((x - self.xmin), self.dx).astype(int)\n",
    "        \n",
    "        y = point.imag\n",
    "        iy = np.floor_divide((y - self.ymin), self.dy).astype(int)\n",
    "\n",
    "        if ix.size == 1:\n",
    "            return [ix, iy]\n",
    "        else:        \n",
    "            print(ix.shape)\n",
    "            return np.concatenate((ix.reshape(ix.size, 1), iy.reshape(iy.size, 1)), axis=1)\n",
    "    \n",
    "gdat = GridData(mfname)\n",
    "print(gdat.gridloc(complex(-0.2, 0.1)))\n",
    "print(gdat.gridloc(complex(-1., 1.)))\n",
    "print(gdat.gridloc(complex(1., -1.)))"
   ]
  },
  {
   "cell_type": "code",
   "execution_count": 17,
   "metadata": {
    "scrolled": true
   },
   "outputs": [
    {
     "name": "stdout",
     "output_type": "stream",
     "text": [
      "[-0.99498747+0.09774436j -0.99498747+0.09273183j -0.99498747+0.0877193 j]\n",
      "(3,)\n",
      "[[  1 219]\n",
      " [  1 218]\n",
      " [  1 217]]\n"
     ]
    },
    {
     "data": {
      "text/plain": [
       "array([  1, 219])"
      ]
     },
     "execution_count": 17,
     "metadata": {},
     "output_type": "execute_result"
    }
   ],
   "source": [
    "data = np.fromfile(fname, dtype=np.complex128)\n",
    "\n",
    "data = data.reshape(2, data.size//2)\n",
    "# print(data.shape)\n",
    "# data[:,0]\n",
    "\n",
    "pts = data[0,0:3]\n",
    "print(pts)\n",
    "loc = gdat.gridloc(pts)\n",
    "print(loc)\n",
    "loc[0]"
   ]
  }
 ],
 "metadata": {
  "kernelspec": {
   "display_name": "Python 3",
   "language": "python",
   "name": "python3"
  },
  "language_info": {
   "codemirror_mode": {
    "name": "ipython",
    "version": 3
   },
   "file_extension": ".py",
   "mimetype": "text/x-python",
   "name": "python",
   "nbconvert_exporter": "python",
   "pygments_lexer": "ipython3",
   "version": "3.6.4"
  }
 },
 "nbformat": 4,
 "nbformat_minor": 2
}
