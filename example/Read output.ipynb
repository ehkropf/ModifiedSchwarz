{
 "cells": [
  {
   "cell_type": "code",
   "execution_count": 8,
   "metadata": {},
   "outputs": [],
   "source": [
    "import numpy as np\n",
    "import matplotlib as mpl\n",
    "import matplotlib.pyplot as plt"
   ]
  },
  {
   "cell_type": "code",
   "execution_count": 9,
   "metadata": {},
   "outputs": [],
   "source": [
    "mfname = \"../build/ex1.meta\"\n",
    "fname = \"../build/ex1.data\""
   ]
  },
  {
   "cell_type": "code",
   "execution_count": 10,
   "metadata": {},
   "outputs": [],
   "source": [
    "class GridData:\n",
    "    'Grid metadata.'\n",
    "    \n",
    "    def __init__(self, mfname):\n",
    "        'Load data from *.meta file.'\n",
    "\n",
    "        mf = open(mfname, 'r')\n",
    "        self.m = int(mf.readline().strip('\\n').split(sep='=')[1])\n",
    "\n",
    "        self.c = []\n",
    "        for _ in range(self.m):\n",
    "            a = mf.readline().strip('\\n').strip('()').split(sep=',')\n",
    "            self.c.append(complex(float(a[0]), float(a[1])))\n",
    "\n",
    "        self.r = []\n",
    "        for _ in range(self.m):\n",
    "            a = mf.readline().strip('\\n')\n",
    "            self.r.append(float(a))\n",
    "    \n",
    "        self.res = int(mf.readline().strip('\\n').split(sep='=')[1])\n",
    "\n",
    "        a = mf.readline().strip('\\n').split(sep=' ')\n",
    "        self.xmin = float(a[0])\n",
    "        self.xmax = float(a[1])\n",
    "        self.ymin = float(a[2])\n",
    "        self.ymax = float(a[3])\n",
    "        \n",
    "        self.dx = (self.xmax - self.xmin)/self.res\n",
    "        self.dy = (self.ymax - self.ymin)/self.res\n",
    "\n",
    "        mf.close()\n",
    "        \n",
    "    def gridloc(self, point):\n",
    "        'Calc grid location given point(s).'\n",
    "        \n",
    "        # x = xmin + ix*dx => ix = (x - xmin)//dx\n",
    "        x = point.real\n",
    "        ix = np.floor_divide((x - self.xmin), self.dx).astype(int)\n",
    "        \n",
    "        y = point.imag\n",
    "        iy = np.floor_divide((y - self.ymin), self.dy).astype(int)\n",
    "\n",
    "        if ix.size == 1:\n",
    "            return [ix, iy]\n",
    "        else:        \n",
    "            return np.concatenate((ix.reshape(ix.size, 1), \n",
    "                                   iy.reshape(iy.size, 1)), axis=1)"
   ]
  },
  {
   "cell_type": "code",
   "execution_count": 11,
   "metadata": {},
   "outputs": [],
   "source": [
    "def phasepaint(data):\n",
    "    'Generate rgb phase picture of data.'\n",
    "    \n",
    "    # Maps angle of z from [0,pi]U[-pi,0] to [0,1]\n",
    "    ph = (np.angle(-data) + np.pi)/(2*np.pi)\n",
    "\n",
    "    # Scalar map object ftw.\n",
    "    smap = mpl.cm.ScalarMappable(cmap='hsv')\n",
    "    \n",
    "    return smap.to_rgba(ph)"
   ]
  },
  {
   "cell_type": "code",
   "execution_count": 12,
   "metadata": {
    "scrolled": true
   },
   "outputs": [],
   "source": [
    "gdat = GridData(mfname)\n",
    "\n",
    "data = np.fromfile(fname, dtype=np.complex128)\n",
    "data = data.reshape(2, data.size//2)\n",
    "\n",
    "imdat = phasepaint(data[1,:])\n",
    "loc = gdat.gridloc(data[0,:])"
   ]
  },
  {
   "cell_type": "code",
   "execution_count": 13,
   "metadata": {},
   "outputs": [],
   "source": [
    "img = np.full([gdat.res, gdat.res, 4], [0., 0., 0., 1.])\n",
    "for xy, rgb in zip(loc, imdat):\n",
    "    img[tuple(xy)] = rgb"
   ]
  },
  {
   "cell_type": "code",
   "execution_count": 17,
   "metadata": {},
   "outputs": [
    {
     "data": {
      "image/png": "[encoded data removed]",
      "text/plain": [
       "<matplotlib.figure.Figure at 0x1174395f8>"
      ]
     },
     "metadata": {},
     "output_type": "display_data"
    }
   ],
   "source": [
    "fig = plt.figure()\n",
    "ax = fig.gca()\n",
    "ax.imshow(img,\n",
    "         interpolation='none',\n",
    "         aspect='equal')\n",
    "plt.savefig('../build/ex1.png', bbox_inches='tight')"
   ]
  }
 ],
 "metadata": {
  "kernelspec": {
   "display_name": "Python 3",
   "language": "python",
   "name": "python3"
  },
  "language_info": {
   "codemirror_mode": {
    "name": "ipython",
    "version": 3
   },
   "file_extension": ".py",
   "mimetype": "text/x-python",
   "name": "python",
   "nbconvert_exporter": "python",
   "pygments_lexer": "ipython3",
   "version": "3.6.4"
  }
 },
 "nbformat": 4,
 "nbformat_minor": 2
}
